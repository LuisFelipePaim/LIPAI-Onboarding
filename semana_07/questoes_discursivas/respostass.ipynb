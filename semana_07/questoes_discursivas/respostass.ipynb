{
 "cells": [
  {
   "cell_type": "markdown",
   "id": "80d4652c",
   "metadata": {},
   "source": [
    "1 - As funções de ativação tem a tarefa de decidir se um neurônio deve ser ativado ou não,\n",
    "em termos práticos, através dessa função ocorre a decisão de se a informação que o neurônio\n",
    "está recebendo é relevante para a informação fornecida, caso não seja, será ignorada. Sendo \n",
    "assim, uma função de ativação também adiciona não-linearidade, haja visto que uma equação\n",
    "linear, mesmo que simples de resolver, possui capacidade limitada na sua capacidade de resolver\n",
    "problemas, é ai que a função de ativação entra, ela fas a transformação não-linear nos dados de\n",
    "entrada, viabilizando a rede a aprender tarefas mais complexas. Esse também é a motivação por \n",
    "trás de usar funções de ativação entre camadas, sem elas, mesmo que tenhamos inumeras camadas, \n",
    "no final teriamos matematicamente apeanas uma transformação linear, já com o uso de funções de \n",
    "ativação, como a ReLu, consiguimos introduzir essa não linearidade para a rede.\n",
    "\n",
    "2-\n",
    "\n",
    " a) model.train() - essa função tem o propósito de colocar o modelo em modo de treinamento, ela \n",
    " possuim suma importância pois através dela é permitido o cálculo do gradiente.\n",
    "\n",
    " b) optmizer.step() - esse função tem a tarefa de propriamente atualizar os pesos(parâmetros) do\n",
    " modelo, seu funcionamento sé dá após o cálculo do gradiente, pois é através desse gradiente gerado\n",
    " que ele faz a atualização dos pesos da rede.\n",
    "\n",
    " c) A diferença fundamental entre o model.train() e model.eval() é que cada uma altera comportamentos\n",
    " especificos do modelo a fim de garantir que as camadas funcionem de acordo com o que é desejado no \n",
    " momento, treinamento ou avaliação.  \n",
    "\n"
   ]
  }
 ],
 "metadata": {
  "language_info": {
   "name": "python"
  }
 },
 "nbformat": 4,
 "nbformat_minor": 5
}
