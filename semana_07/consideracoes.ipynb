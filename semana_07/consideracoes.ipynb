{
 "cells": [
  {
   "cell_type": "markdown",
   "id": "d7f79d4d",
   "metadata": {},
   "source": [
    "Fazendo as tarefas pedidas e realizando os testes eu não obtive resultados diferentes para treino e validação, isso. Cheguei a olhar o repositório de alguns colegas para verificar os resultados que eles obtiveram e de fato alguns obtiveram resultados diferentes e não pude atestar o que ocasionou meus resultados serem iguais mesmo mudando parâmetros e estruturas.    "
   ]
  }
 ],
 "metadata": {
  "language_info": {
   "name": "python"
  }
 },
 "nbformat": 4,
 "nbformat_minor": 5
}
